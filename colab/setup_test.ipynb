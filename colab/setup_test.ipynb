{
 "cells": [
  {
   "cell_type": "markdown",
   "metadata": {},
   "source": [
    "# Colab Setup Verification\n",
    "\n",
    "**Purpose:** Quick test to verify Colab environment is ready for training\n",
    "\n",
    "**Runtime:** 5-10 minutes\n",
    "\n",
    "Run all cells in order and verify each step succeeds before starting full training."
   ]
  },
  {
   "cell_type": "markdown",
   "metadata": {},
   "source": [
    "## 1. GPU Check"
   ]
  },
  {
   "cell_type": "code",
   "execution_count": null,
   "metadata": {},
   "outputs": [],
   "source": [
    "import torch\n",
    "\n",
    "print(\"GPU Information:\")\n",
    "print(f\"  CUDA available: {torch.cuda.is_available()}\")\n",
    "\n",
    "if torch.cuda.is_available():\n",
    "    print(f\"  Device name: {torch.cuda.get_device_name(0)}\")\n",
    "    print(f\"  CUDA version: {torch.version.cuda}\")\n",
    "    print(f\"  Memory allocated: {torch.cuda.memory_allocated(0) / 1e9:.2f} GB\")\n",
    "    print(f\"  Memory reserved: {torch.cuda.memory_reserved(0) / 1e9:.2f} GB\")\n",
    "    print(\"\\n✓ GPU ready\")\n",
    "else:\n",
    "    print(\"\\n✗ No GPU detected!\")\n",
    "    print(\"  Go to Runtime → Change runtime type → Select GPU\")"
   ]
  },
  {
   "cell_type": "markdown",
   "metadata": {},
   "source": [
    "## 2. Mount Google Drive"
   ]
  },
  {
   "cell_type": "code",
   "execution_count": null,
   "metadata": {},
   "outputs": [],
   "source": [
    "from google.colab import drive\n",
    "import os\n",
    "\n",
    "drive.mount('/content/drive')\n",
    "\n",
    "# Create checkpoint directory\n",
    "checkpoint_dir = '/content/drive/MyDrive/chess_checkpoints'\n",
    "os.makedirs(checkpoint_dir, exist_ok=True)\n",
    "\n",
    "# Test write access\n",
    "test_file = f\"{checkpoint_dir}/test.txt\"\n",
    "with open(test_file, 'w') as f:\n",
    "    f.write(\"Colab setup test\")\n",
    "\n",
    "# Verify\n",
    "if os.path.exists(test_file):\n",
    "    os.remove(test_file)\n",
    "    print(\"✓ Google Drive mounted and writable\")\n",
    "else:\n",
    "    print(\"✗ Drive write test failed\")"
   ]
  },
  {
   "cell_type": "markdown",
   "metadata": {},
   "source": [
    "## 3. Clone Repository"
   ]
  },
  {
   "cell_type": "code",
   "execution_count": null,
   "metadata": {},
   "outputs": [],
   "source": [
    "# Remove existing repo if present\n",
    "!rm -rf rl_chess_agent\n",
    "\n",
    "# Clone\n",
    "!git clone https://github.com/Capacap/rl_chess_agent.git\n",
    "%cd rl_chess_agent\n",
    "\n",
    "# Verify\n",
    "import os\n",
    "required_files = ['train.py', 'model/network.py', 'training/pipeline.py']\n",
    "all_exist = all(os.path.exists(f) for f in required_files)\n",
    "\n",
    "if all_exist:\n",
    "    print(\"\\n✓ Repository cloned successfully\")\n",
    "    !git log --oneline -3\n",
    "else:\n",
    "    print(\"\\n✗ Missing required files\")"
   ]
  },
  {
   "cell_type": "markdown",
   "metadata": {},
   "source": [
    "## 4. Install Dependencies"
   ]
  },
  {
   "cell_type": "code",
   "execution_count": null,
   "metadata": {},
   "outputs": [],
   "source": [
    "!pip install -q -r requirements.txt\n",
    "\n",
    "# Verify imports\n",
    "try:\n",
    "    import chess\n",
    "    import numpy as np\n",
    "    import torch\n",
    "    from model.network import ChessNet\n",
    "    from training.pipeline import training_pipeline\n",
    "    \n",
    "    print(\"✓ All dependencies installed\")\n",
    "    print(f\"  chess: {chess.__version__}\")\n",
    "    print(f\"  numpy: {np.__version__}\")\n",
    "    print(f\"  torch: {torch.__version__}\")\n",
    "except ImportError as e:\n",
    "    print(f\"✗ Import failed: {e}\")"
   ]
  },
  {
   "cell_type": "markdown",
   "metadata": {},
   "source": [
    "## 5. Test Network Forward Pass (GPU)"
   ]
  },
  {
   "cell_type": "code",
   "execution_count": null,
   "metadata": {},
   "outputs": [],
   "source": [
    "import torch\n",
    "from model.network import ChessNet\n",
    "from encoding.state import encode_board\n",
    "from encoding.move import create_legal_move_mask\n",
    "import chess\n",
    "\n",
    "# Create network and move to GPU\n",
    "network = ChessNet(channels=64, num_blocks=4)\n",
    "device = torch.device('cuda' if torch.cuda.is_available() else 'cpu')\n",
    "network.to(device)\n",
    "\n",
    "# Test forward pass\n",
    "board = chess.Board()\n",
    "state = encode_board(board).to(device)\n",
    "mask = torch.tensor(create_legal_move_mask(board), dtype=torch.bool).unsqueeze(0).to(device)\n",
    "\n",
    "with torch.no_grad():\n",
    "    policy, value = network(state, mask)\n",
    "\n",
    "print(f\"Device: {device}\")\n",
    "print(f\"Policy shape: {policy.shape}\")\n",
    "print(f\"Value shape: {value.shape}\")\n",
    "print(f\"Policy sum (should be ~1.0): {policy.sum().item():.4f}\")\n",
    "print(f\"Value range: [{value.min().item():.4f}, {value.max().item():.4f}]\")\n",
    "\n",
    "if device.type == 'cuda':\n",
    "    print(f\"\\n✓ GPU inference working\")\n",
    "else:\n",
    "    print(f\"\\n⚠ Using CPU (slower but functional)\")"
   ]
  },
  {
   "cell_type": "markdown",
   "metadata": {},
   "source": [
    "## 6. Test Mini Training Run (1 iteration)"
   ]
  },
  {
   "cell_type": "code",
   "execution_count": null,
   "metadata": {},
   "outputs": [],
   "source": [
    "!python train.py \\\n",
    "  --iterations 1 \\\n",
    "  --games-per-iter 5 \\\n",
    "  --simulations 10 \\\n",
    "  --arena-games 5 \\\n",
    "  --checkpoint-dir checkpoints/test_run"
   ]
  },
  {
   "cell_type": "markdown",
   "metadata": {},
   "source": [
    "## 7. Verify Checkpoint Saved"
   ]
  },
  {
   "cell_type": "code",
   "execution_count": null,
   "metadata": {},
   "outputs": [],
   "source": [
    "import os\n",
    "import glob\n",
    "\n",
    "checkpoints = glob.glob(\"checkpoints/test_run/*.pt\")\n",
    "log_exists = os.path.exists(\"checkpoints/test_run/training.log\")\n",
    "\n",
    "print(f\"Checkpoints found: {len(checkpoints)}\")\n",
    "print(f\"Training log exists: {log_exists}\")\n",
    "\n",
    "if checkpoints:\n",
    "    for cp in sorted(checkpoints):\n",
    "        size_mb = os.path.getsize(cp) / (1024 * 1024)\n",
    "        print(f\"  {cp}: {size_mb:.1f} MB\")\n",
    "\n",
    "if checkpoints and log_exists:\n",
    "    print(\"\\n✓ Checkpoint save/load working\")\n",
    "else:\n",
    "    print(\"\\n✗ Checkpoint creation failed\")"
   ]
  },
  {
   "cell_type": "markdown",
   "metadata": {},
   "source": [
    "## 8. Test Drive Backup"
   ]
  },
  {
   "cell_type": "code",
   "execution_count": null,
   "metadata": {},
   "outputs": [],
   "source": [
    "# Copy test checkpoint to Drive\n",
    "!cp -r checkpoints/test_run /content/drive/MyDrive/chess_checkpoints/\n",
    "\n",
    "# Verify\n",
    "import os\n",
    "drive_path = \"/content/drive/MyDrive/chess_checkpoints/test_run\"\n",
    "\n",
    "if os.path.exists(drive_path):\n",
    "    print(\"✓ Drive backup working\")\n",
    "    print(f\"  Backed up to: {drive_path}\")\n",
    "    \n",
    "    # Clean up test files\n",
    "    !rm -rf checkpoints/test_run\n",
    "    !rm -rf /content/drive/MyDrive/chess_checkpoints/test_run\n",
    "    print(\"  Test files cleaned up\")\n",
    "else:\n",
    "    print(\"✗ Drive backup failed\")"
   ]
  },
  {
   "cell_type": "markdown",
   "metadata": {},
   "source": [
    "## Summary\n",
    "\n",
    "If all cells above show ✓, your Colab environment is ready for training.\n",
    "\n",
    "**Next steps:**\n",
    "1. Close this notebook\n",
    "2. Open `train.ipynb`\n",
    "3. Configure training parameters (Step 5)\n",
    "4. Launch training (Step 6)\n",
    "5. Enable background execution (Runtime → Background execution)\n",
    "\n",
    "**Estimated training times:**\n",
    "- Quick test (5 iter, 50 games): 2-3 hours\n",
    "- Development (10 iter, 50 games): 12-15 hours\n",
    "- Production (15 iter, 100 games): 24-30 hours"
   ]
  }
 ],
 "metadata": {
  "accelerator": "GPU",
  "colab": {
   "gpuType": "T4",
   "provenance": []
  },
  "kernelspec": {
   "display_name": "Python 3",
   "name": "python3"
  },
  "language_info": {
   "name": "python"
  }
 },
 "nbformat": 4,
 "nbformat_minor": 0
}
