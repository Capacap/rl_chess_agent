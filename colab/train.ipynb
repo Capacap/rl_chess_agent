{
  "cells": [
    {
      "cell_type": "markdown",
      "metadata": {},
      "source": [
        "# Chess RL Agent - Training\n",
        "\n",
        "**Strategy:** Split into safe 5-6 hour sessions (no browser babysitting needed)\n",
        "\n",
        "**Workflow:**\n",
        "1. Run cells 1-6 → Train 5 iterations (~5-6 hours)\n",
        "2. Checkpoints auto-backup to Drive\n",
        "3. Close browser, take a break\n",
        "4. Re-run cells 1-5, then cell 8 → Resume for remaining iterations\n",
        "\n",
        "**Total time:** 2 sessions × 5-6 hours = 10-12 hours for proof of concept"
      ]
    },
    {
      "cell_type": "markdown",
      "metadata": {},
      "source": [
        "## 1. Verify GPU"
      ]
    },
    {
      "cell_type": "code",
      "execution_count": null,
      "metadata": {},
      "outputs": [],
      "source": [
        "import torch\n",
        "\n",
        "print(f\"GPU: {torch.cuda.get_device_name(0) if torch.cuda.is_available() else 'None'}\")\n",
        "print(f\"CUDA: {torch.cuda.is_available()}\")\n",
        "\n",
        "if not torch.cuda.is_available():\n",
        "    print(\"\\n⚠ Go to Runtime → Change runtime type → Select GPU (L4 recommended)\")\n",
        "else:\n",
        "    print(\"\\n✓ GPU ready\")"
      ]
    },
    {
      "cell_type": "markdown",
      "metadata": {},
      "source": [
        "## 2. Mount Google Drive"
      ]
    },
    {
      "cell_type": "code",
      "execution_count": null,
      "metadata": {},
      "outputs": [],
      "source": [
        "from google.colab import drive\n",
        "\n",
        "drive.mount('/content/drive')\n",
        "!mkdir -p /content/drive/MyDrive/chess_checkpoints\n",
        "\n",
        "print(\"✓ Drive mounted\")"
      ]
    },
    {
      "cell_type": "markdown",
      "metadata": {},
      "source": [
        "## 3. Clone Repository"
      ]
    },
    {
      "cell_type": "code",
      "execution_count": null,
      "metadata": {},
      "outputs": [],
      "source": [
        "# Remove existing repo\n",
        "!rm -rf rl_chess_agent\n",
        "\n",
        "# Clone latest version\n",
        "!git clone https://github.com/Capacap/rl_chess_agent.git\n",
        "%cd rl_chess_agent\n",
        "\n",
        "# Verify latest commit\n",
        "!git log --oneline -1\n",
        "print(\"\\n✓ Repository ready\")"
      ]
    },
    {
      "cell_type": "markdown",
      "metadata": {},
      "source": [
        "## 4. Install Dependencies"
      ]
    },
    {
      "cell_type": "code",
      "execution_count": null,
      "metadata": {},
      "outputs": [],
      "source": [
        "# Install chess library (Colab has torch, numpy, etc.)\n",
        "!pip install -q -r requirements-colab.txt\n",
        "\n",
        "# Verify imports\n",
        "import chess\n",
        "from model.network import ChessNet\n",
        "\n",
        "print(f\"✓ Dependencies installed\")\n",
        "print(f\"  chess: {chess.__version__}\")\n",
        "print(f\"  torch: {torch.__version__}\")"
      ]
    },
    {
      "cell_type": "markdown",
      "metadata": {},
      "source": [
        "## 5. Configure Training"
      ]
    },
    {
      "cell_type": "code",
      "execution_count": null,
      "metadata": {},
      "outputs": [],
      "source": [
        "import datetime\n",
        "\n",
        "# Training Strategy: Split into safe 5-6 hour sessions\n",
        "# Session 1: Run 5 iterations, then resume for remaining iterations\n",
        "\n",
        "# === Session Configuration ===\n",
        "# Modify these values for each session:\n",
        "SESSION_ITERATIONS = 5    # Iterations for THIS session (5-6 hours each)\n",
        "TOTAL_TARGET = 10         # Total iterations you want overall\n",
        "\n",
        "# Training parameters\n",
        "GAMES_PER_ITER = 50       # Games per iteration\n",
        "SIMULATIONS = 20          # MCTS simulations per move\n",
        "ARENA_GAMES = 20          # Arena evaluation games\n",
        "\n",
        "# Advanced (rarely need to change)\n",
        "BATCH_SIZE = 256\n",
        "EPOCHS = 5\n",
        "LEARNING_RATE = 1e-3\n",
        "\n",
        "# Auto-backup to Drive\n",
        "timestamp = datetime.datetime.now().strftime(\"%Y%m%d_%H%M%S\")\n",
        "CHECKPOINT_DIR = f\"checkpoints/{timestamp}\"\n",
        "GDRIVE_BACKUP = \"/content/drive/MyDrive/chess_checkpoints\"\n",
        "\n",
        "print(\"Split-Run Training Configuration:\")\n",
        "print(f\"  This session: {SESSION_ITERATIONS} iterations (~{SESSION_ITERATIONS * 1.2:.0f}-{SESSION_ITERATIONS * 1.5:.0f} hours)\")\n",
        "print(f\"  Target total: {TOTAL_TARGET} iterations\")\n",
        "print(f\"  {GAMES_PER_ITER} games/iter, {SIMULATIONS} MCTS sims\")\n",
        "print(f\"\\nCheckpoints: {CHECKPOINT_DIR}\")\n",
        "print(f\"Drive backup: {GDRIVE_BACKUP}\")\n",
        "print(f\"\\n💡 After this session, use Cell 8 to resume for remaining iterations\")"
      ]
    },
    {
      "cell_type": "markdown",
      "metadata": {},
      "source": [
        "## 6. Launch Training"
      ]
    },
    {
      "cell_type": "code",
      "execution_count": null,
      "metadata": {},
      "outputs": [],
      "source": [
        "# Start training session (5-6 hours for 5 iterations)\n",
        "!python train.py \\\n",
        "  --iterations {SESSION_ITERATIONS} \\\n",
        "  --games-per-iter {GAMES_PER_ITER} \\\n",
        "  --simulations {SIMULATIONS} \\\n",
        "  --arena-games {ARENA_GAMES} \\\n",
        "  --batch-size {BATCH_SIZE} \\\n",
        "  --epochs {EPOCHS} \\\n",
        "  --lr {LEARNING_RATE} \\\n",
        "  --checkpoint-dir {CHECKPOINT_DIR} \\\n",
        "  --gdrive-backup-dir {GDRIVE_BACKUP}\n",
        "\n",
        "print(f\"\\n✓ Session complete!\")\n",
        "print(f\"Checkpoints auto-backed up to: {GDRIVE_BACKUP}/{timestamp}/\")\n",
        "print(f\"\\nNext: Run Cell 8 to continue training for remaining iterations\")"
      ]
    },
    {
      "cell_type": "markdown",
      "metadata": {},
      "source": [
        "## 7. Monitor Progress\n",
        "\n",
        "Run this cell periodically to check training status"
      ]
    },
    {
      "cell_type": "code",
      "execution_count": null,
      "metadata": {},
      "outputs": [],
      "source": [
        "import os\n",
        "import glob\n",
        "\n",
        "# Count completed iterations\n",
        "checkpoints = glob.glob(f\"{CHECKPOINT_DIR}/iteration_*.pt\")\n",
        "pkl_checkpoints = glob.glob(f\"{CHECKPOINT_DIR}/iteration_*.pkl\")\n",
        "\n",
        "completed = len([c for c in checkpoints if \"_challenger\" not in c])\n",
        "print(f\"Progress: {completed}/{TOTAL_TARGET} iterations\")\n",
        "print(f\"Tournament files (.pkl): {len(pkl_checkpoints)}\")\n",
        "\n",
        "# Show latest checkpoint\n",
        "if checkpoints:\n",
        "    latest = sorted(checkpoints)[-1]\n",
        "    print(f\"\\nLatest: {os.path.basename(latest)}\")\n",
        "\n",
        "# View recent log entries\n",
        "print(f\"\\n--- Recent log ---\")\n",
        "!tail -15 {CHECKPOINT_DIR}/training.log 2>/dev/null || echo \"Log not yet created\"\n",
        "\n",
        "# GPU status\n",
        "print(f\"\\n--- GPU utilization ---\")\n",
        "!nvidia-smi --query-gpu=name,utilization.gpu,memory.used --format=csv,noheader"
      ]
    },
    {
      "cell_type": "markdown",
      "metadata": {},
      "source": [
        "## 8. Resume Training (if interrupted)"
      ]
    },
    {
      "cell_type": "code",
      "execution_count": null,
      "metadata": {},
      "outputs": [],
      "source": [
        "# Resume training for remaining iterations\n",
        "import os\n",
        "import glob\n",
        "\n",
        "# Find latest checkpoint\n",
        "checkpoints = sorted(glob.glob(f\"{CHECKPOINT_DIR}/iteration_*.pt\"))\n",
        "if checkpoints:\n",
        "    latest = checkpoints[-1]\n",
        "    completed = int(latest.split('_')[-1].split('.')[0])\n",
        "    remaining = TOTAL_TARGET - completed\n",
        "    \n",
        "    print(f\"Resume Training:\")\n",
        "    print(f\"  Completed: {completed}/{TOTAL_TARGET} iterations\")\n",
        "    print(f\"  Remaining: {remaining} iterations\")\n",
        "    print(f\"  Estimated time: {remaining * 1.2:.0f}-{remaining * 1.5:.0f} hours\")\n",
        "    print(f\"  Resuming from: {os.path.basename(latest)}\\n\")\n",
        "    \n",
        "    if remaining > 0:\n",
        "        # Resume training\n",
        "        !python train.py \\\n",
        "          --resume {latest} \\\n",
        "          --iterations {remaining} \\\n",
        "          --games-per-iter {GAMES_PER_ITER} \\\n",
        "          --simulations {SIMULATIONS} \\\n",
        "          --arena-games {ARENA_GAMES} \\\n",
        "          --batch-size {BATCH_SIZE} \\\n",
        "          --epochs {EPOCHS} \\\n",
        "          --checkpoint-dir {CHECKPOINT_DIR} \\\n",
        "          --gdrive-backup-dir {GDRIVE_BACKUP}\n",
        "        \n",
        "        print(f\"\\n✓ Training complete!\")\n",
        "        print(f\"Final model: {CHECKPOINT_DIR}/iteration_{TOTAL_TARGET}.pkl\")\n",
        "    else:\n",
        "        print(\"✓ Target iterations already reached!\")\n",
        "else:\n",
        "    print(\"❌ No checkpoint found. Run Cell 6 first to start training.\")"
      ]
    },
    {
      "cell_type": "markdown",
      "metadata": {},
      "source": [
        "## Troubleshooting\n",
        "\n",
        "**Out of memory:** Reduce `BATCH_SIZE = 128` or `GAMES_PER_ITER = 25`\n",
        "\n",
        "**Too slow:** Reduce `SIMULATIONS = 15` or `ARENA_GAMES = 10`\n",
        "\n",
        "**Download checkpoints:** Already in Google Drive at `/MyDrive/chess_checkpoints/{timestamp}/`"
      ]
    }
  ],
  "metadata": {
    "accelerator": "GPU",
    "colab": {
      "provenance": []
    },
    "kernelspec": {
      "display_name": "Python 3",
      "name": "python3"
    }
  },
  "nbformat": 4,
  "nbformat_minor": 0
}
