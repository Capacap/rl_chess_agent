{
  "cells": [
    {
      "cell_type": "markdown",
      "metadata": {},
      "source": [
        "# Chess RL Agent - Training\n",
        "\n",
        "**Runtime:** 12-30 hours (GPU required)\n",
        "\n",
        "**Requirements:** Colab Pro for background execution\n",
        "\n",
        "Run cells 1-6 in order, then monitor progress with cell 7."
      ]
    },
    {
      "cell_type": "markdown",
      "metadata": {},
      "source": [
        "## 1. Verify GPU"
      ]
    },
    {
      "cell_type": "code",
      "execution_count": null,
      "metadata": {},
      "outputs": [],
      "source": [
        "import torch\n",
        "\n",
        "print(f\"GPU: {torch.cuda.get_device_name(0) if torch.cuda.is_available() else 'None'}\")\n",
        "print(f\"CUDA: {torch.cuda.is_available()}\")\n",
        "\n",
        "if not torch.cuda.is_available():\n",
        "    print(\"\\n⚠ Go to Runtime → Change runtime type → Select GPU (L4 recommended)\")\n",
        "else:\n",
        "    print(\"\\n✓ GPU ready\")"
      ]
    },
    {
      "cell_type": "markdown",
      "metadata": {},
      "source": [
        "## 2. Mount Google Drive"
      ]
    },
    {
      "cell_type": "code",
      "execution_count": null,
      "metadata": {},
      "outputs": [],
      "source": [
        "from google.colab import drive\n",
        "\n",
        "drive.mount('/content/drive')\n",
        "!mkdir -p /content/drive/MyDrive/chess_checkpoints\n",
        "\n",
        "print(\"✓ Drive mounted\")"
      ]
    },
    {
      "cell_type": "markdown",
      "metadata": {},
      "source": [
        "## 3. Clone Repository"
      ]
    },
    {
      "cell_type": "code",
      "execution_count": null,
      "metadata": {},
      "outputs": [],
      "source": [
        "# Remove existing repo\n",
        "!rm -rf rl_chess_agent\n",
        "\n",
        "# Clone latest version\n",
        "!git clone https://github.com/Capacap/rl_chess_agent.git\n",
        "%cd rl_chess_agent\n",
        "\n",
        "# Verify latest commit\n",
        "!git log --oneline -1\n",
        "print(\"\\n✓ Repository ready\")"
      ]
    },
    {
      "cell_type": "markdown",
      "metadata": {},
      "source": [
        "## 4. Install Dependencies"
      ]
    },
    {
      "cell_type": "code",
      "execution_count": null,
      "metadata": {},
      "outputs": [],
      "source": [
        "# Install chess library (Colab has torch, numpy, etc.)\n",
        "!pip install -q -r requirements-colab.txt\n",
        "\n",
        "# Verify imports\n",
        "import chess\n",
        "from model.network import ChessNet\n",
        "\n",
        "print(f\"✓ Dependencies installed\")\n",
        "print(f\"  chess: {chess.__version__}\")\n",
        "print(f\"  torch: {torch.__version__}\")"
      ]
    },
    {
      "cell_type": "markdown",
      "metadata": {},
      "source": [
        "## 5. Configure Training"
      ]
    },
    {
      "cell_type": "code",
      "execution_count": null,
      "metadata": {},
      "outputs": [],
      "source": [
        "import datetime\n",
        "\n",
        "# Training parameters (modify as needed)\n",
        "# Quick test: ITERATIONS=5, GAMES=25, SIMS=20 (~3 hours)\n",
        "# Development: ITERATIONS=10, GAMES=50, SIMS=20 (~12 hours)\n",
        "# Production: ITERATIONS=15, GAMES=100, SIMS=40 (~30 hours)\n",
        "\n",
        "ITERATIONS = 10\n",
        "GAMES_PER_ITER = 50\n",
        "SIMULATIONS = 20\n",
        "ARENA_GAMES = 20\n",
        "\n",
        "# Advanced (usually don't need to change)\n",
        "BATCH_SIZE = 256\n",
        "EPOCHS = 5\n",
        "LEARNING_RATE = 1e-3\n",
        "\n",
        "# Auto-backup to Drive\n",
        "timestamp = datetime.datetime.now().strftime(\"%Y%m%d_%H%M%S\")\n",
        "CHECKPOINT_DIR = f\"checkpoints/{timestamp}\"\n",
        "GDRIVE_BACKUP = \"/content/drive/MyDrive/chess_checkpoints\"\n",
        "\n",
        "print(\"Configuration:\")\n",
        "print(f\"  {ITERATIONS} iterations × {GAMES_PER_ITER} games\")\n",
        "print(f\"  {SIMULATIONS} MCTS simulations/move\")\n",
        "print(f\"  Checkpoints: {CHECKPOINT_DIR}\")\n",
        "print(f\"  Drive backup: {GDRIVE_BACKUP}\")"
      ]
    },
    {
      "cell_type": "markdown",
      "metadata": {},
      "source": [
        "## 6. Launch Training\n",
        "\n",
        "**Enable background execution:** Runtime → Background execution"
      ]
    },
    {
      "cell_type": "code",
      "execution_count": null,
      "metadata": {},
      "outputs": [],
      "source": [
        "# Start training (will run for hours)\n",
        "!python train.py \\\n",
        "  --iterations {ITERATIONS} \\\n",
        "  --games-per-iter {GAMES_PER_ITER} \\\n",
        "  --simulations {SIMULATIONS} \\\n",
        "  --arena-games {ARENA_GAMES} \\\n",
        "  --batch-size {BATCH_SIZE} \\\n",
        "  --epochs {EPOCHS} \\\n",
        "  --lr {LEARNING_RATE} \\\n",
        "  --checkpoint-dir {CHECKPOINT_DIR} \\\n",
        "  --gdrive-backup-dir {GDRIVE_BACKUP}"
      ]
    },
    {
      "cell_type": "markdown",
      "metadata": {},
      "source": [
        "## 7. Monitor Progress\n",
        "\n",
        "Run this cell periodically to check training status"
      ]
    },
    {
      "cell_type": "code",
      "execution_count": null,
      "metadata": {},
      "outputs": [],
      "source": [
        "import os\n",
        "import glob\n",
        "\n",
        "# Count completed iterations\n",
        "checkpoints = glob.glob(f\"{CHECKPOINT_DIR}/iteration_*.pt\")\n",
        "pkl_checkpoints = glob.glob(f\"{CHECKPOINT_DIR}/iteration_*.pkl\")\n",
        "\n",
        "print(f\"Progress: {len(checkpoints)}/{ITERATIONS} iterations\")\n",
        "print(f\"Tournament files (.pkl): {len(pkl_checkpoints)}\")\n",
        "\n",
        "# Show latest checkpoint\n",
        "if checkpoints:\n",
        "    latest = sorted(checkpoints)[-1]\n",
        "    print(f\"\\nLatest: {os.path.basename(latest)}\")\n",
        "\n",
        "# View recent log entries\n",
        "print(f\"\\n--- Recent log ---\")\n",
        "!tail -15 {CHECKPOINT_DIR}/training.log 2>/dev/null || echo \"Log not yet created\"\n",
        "\n",
        "# GPU status\n",
        "print(f\"\\n--- GPU utilization ---\")\n",
        "!nvidia-smi --query-gpu=utilization.gpu,memory.used --format=csv,noheader"
      ]
    },
    {
      "cell_type": "markdown",
      "metadata": {},
      "source": [
        "## 8. Resume Training (if interrupted)"
      ]
    },
    {
      "cell_type": "code",
      "execution_count": null,
      "metadata": {},
      "outputs": [],
      "source": [
        "# Find latest checkpoint\n",
        "checkpoints = sorted(glob.glob(f\"{CHECKPOINT_DIR}/iteration_*.pt\"))\n",
        "if checkpoints:\n",
        "    latest = checkpoints[-1]\n",
        "    remaining = ITERATIONS - int(latest.split('_')[-1].split('.')[0])\n",
        "    \n",
        "    print(f\"Resuming from: {os.path.basename(latest)}\")\n",
        "    print(f\"Remaining iterations: {remaining}\")\n",
        "    \n",
        "    # Resume training\n",
        "    !python train.py \\\n",
        "      --resume {latest} \\\n",
        "      --iterations {remaining} \\\n",
        "      --games-per-iter {GAMES_PER_ITER} \\\n",
        "      --simulations {SIMULATIONS} \\\n",
        "      --arena-games {ARENA_GAMES} \\\n",
        "      --batch-size {BATCH_SIZE} \\\n",
        "      --epochs {EPOCHS} \\\n",
        "      --checkpoint-dir {CHECKPOINT_DIR} \\\n",
        "      --gdrive-backup-dir {GDRIVE_BACKUP}\n",
        "else:\n",
        "    print(\"No checkpoint found to resume from\")"
      ]
    },
    {
      "cell_type": "markdown",
      "metadata": {},
      "source": [
        "## Troubleshooting\n",
        "\n",
        "**Out of memory:** Reduce `BATCH_SIZE = 128` or `GAMES_PER_ITER = 25`\n",
        "\n",
        "**Too slow:** Reduce `SIMULATIONS = 15` or `ARENA_GAMES = 10`\n",
        "\n",
        "**Download checkpoints:** Already in Google Drive at `/MyDrive/chess_checkpoints/{timestamp}/`"
      ]
    }
  ],
  "metadata": {
    "accelerator": "GPU",
    "colab": {
      "provenance": []
    },
    "kernelspec": {
      "display_name": "Python 3",
      "name": "python3"
    }
  },
  "nbformat": 4,
  "nbformat_minor": 0
}
