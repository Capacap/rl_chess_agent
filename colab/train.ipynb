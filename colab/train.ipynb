{
 "cells": [
  {
   "cell_type": "markdown",
   "id": "cell-0",
   "metadata": {},
   "source": [
    "# Chess RL Agent - Training\n",
    "\n",
    "**Strategy:** Split into safe 5-6 hour sessions (no browser babysitting needed)\n",
    "\n",
    "**Workflow:**\n",
    "1. Run cells 1-6 once → Auto-trains or resumes (~5-6 hours per session)\n",
    "2. Training completes, checkpoints auto-backup to Drive\n",
    "3. Close browser, take a break\n",
    "4. Next session: Re-run cells 1-6 → Automatically resumes where you left off\n",
    "\n",
    "**Total time:** 2 sessions × 5-6 hours = 10-12 hours for proof of concept"
   ]
  },
  {
   "cell_type": "markdown",
   "id": "cell-1",
   "metadata": {},
   "source": [
    "## 1. Verify GPU"
   ]
  },
  {
   "cell_type": "code",
   "execution_count": null,
   "id": "cell-2",
   "metadata": {},
   "outputs": [],
   "source": [
    "import torch\n",
    "\n",
    "print(f\"GPU: {torch.cuda.get_device_name(0) if torch.cuda.is_available() else 'None'}\")\n",
    "print(f\"CUDA: {torch.cuda.is_available()}\")\n",
    "\n",
    "if not torch.cuda.is_available():\n",
    "    print(\"\\n⚠ Go to Runtime → Change runtime type → Select GPU (L4 recommended)\")\n",
    "else:\n",
    "    print(\"\\n✓ GPU ready\")"
   ]
  },
  {
   "cell_type": "markdown",
   "id": "cell-3",
   "metadata": {},
   "source": [
    "## 2. Mount Google Drive"
   ]
  },
  {
   "cell_type": "code",
   "execution_count": null,
   "id": "cell-4",
   "metadata": {},
   "outputs": [],
   "source": [
    "from google.colab import drive\n",
    "\n",
    "drive.mount('/content/drive')\n",
    "!mkdir -p /content/drive/MyDrive/chess_checkpoints\n",
    "\n",
    "print(\"✓ Drive mounted\")"
   ]
  },
  {
   "cell_type": "markdown",
   "id": "cell-5",
   "metadata": {},
   "source": [
    "## 3. Clone Repository"
   ]
  },
  {
   "cell_type": "code",
   "execution_count": null,
   "id": "cell-6",
   "metadata": {},
   "outputs": [],
   "source": [
    "!rm -rf rl_chess_agent\n",
    "!git clone https://github.com/capacap/rl_chess_agent.git\n",
    "%cd rl_chess_agent\n",
    "\n",
    "print(\"✓ Repository cloned\")"
   ]
  },
  {
   "cell_type": "markdown",
   "id": "cell-7",
   "metadata": {},
   "source": [
    "## 4. Install Dependencies"
   ]
  },
  {
   "cell_type": "code",
   "execution_count": null,
   "id": "cell-8",
   "metadata": {},
   "outputs": [],
   "source": [
    "# Install chess library (Colab has torch, numpy, etc.)\n",
    "!pip install -q -r requirements-colab.txt\n",
    "\n",
    "# Verify imports\n",
    "import chess\n",
    "from model.network import ChessNet\n",
    "\n",
    "print(f\"✓ Dependencies installed\")\n",
    "print(f\"  chess: {chess.__version__}\")\n",
    "print(f\"  torch: {torch.__version__}\")"
   ]
  },
  {
   "cell_type": "markdown",
   "id": "cell-9",
   "metadata": {},
   "source": [
    "## 5. Configure Training"
   ]
  },
  {
   "cell_type": "code",
   "execution_count": null,
   "id": "cell-10",
   "metadata": {},
   "outputs": [],
   "source": [
    "# === Project Configuration ===\n",
    "# Set this once and keep it the same across all sessions\n",
    "PROJECT_NAME = \"proof_of_concept\"  # Change this for different training runs\n",
    "\n",
    "# === Session Configuration ===\n",
    "SESSION_ITERATIONS = 5    # Iterations per session (5-6 hours each)\n",
    "TOTAL_TARGET = 10         # Total iterations you want overall\n",
    "\n",
    "# Training parameters\n",
    "GAMES_PER_ITER = 50       # Games per iteration\n",
    "SIMULATIONS = 20          # MCTS simulations per move\n",
    "ARENA_GAMES = 20          # Arena evaluation games\n",
    "\n",
    "# Advanced (rarely need to change)\n",
    "BATCH_SIZE = 256\n",
    "EPOCHS = 5\n",
    "LEARNING_RATE = 1e-3\n",
    "\n",
    "# Checkpoint directories\n",
    "CHECKPOINT_DIR = f\"checkpoints/{PROJECT_NAME}\"\n",
    "GDRIVE_BACKUP = \"/content/drive/MyDrive/chess_checkpoints\"\n",
    "\n",
    "print(\"Training Configuration:\")\n",
    "print(f\"  Project: {PROJECT_NAME}\")\n",
    "print(f\"  Target: {TOTAL_TARGET} iterations total\")\n",
    "print(f\"  Session size: {SESSION_ITERATIONS} iterations (~{SESSION_ITERATIONS * 1.2:.0f}-{SESSION_ITERATIONS * 1.5:.0f} hours)\")\n",
    "print(f\"  {GAMES_PER_ITER} games/iter, {SIMULATIONS} MCTS sims\")\n",
    "print(f\"\\nCheckpoints: {CHECKPOINT_DIR}\")\n",
    "print(f\"Drive backup: {GDRIVE_BACKUP}/{PROJECT_NAME}/\")"
   ]
  },
  {
   "cell_type": "markdown",
   "id": "cell-11",
   "metadata": {},
   "source": [
    "## 6. Train (auto-resumes if checkpoint exists)"
   ]
  },
  {
   "cell_type": "code",
   "execution_count": null,
   "id": "cell-12",
   "metadata": {},
   "outputs": [],
   "source": [
    "import os\n",
    "import glob\n",
    "\n",
    "# Check for existing checkpoints\n",
    "existing_checkpoints = sorted(glob.glob(f\"{CHECKPOINT_DIR}/iteration_*.pt\"))\n",
    "\n",
    "if existing_checkpoints:\n",
    "    # Resume from latest checkpoint\n",
    "    latest = existing_checkpoints[-1]\n",
    "    completed = int(latest.split('_')[-1].split('.')[0])\n",
    "    remaining = TOTAL_TARGET - completed\n",
    "    \n",
    "    print(\"=\"*60)\n",
    "    print(\"RESUMING TRAINING\")\n",
    "    print(\"=\"*60)\n",
    "    print(f\"  Progress: {completed}/{TOTAL_TARGET} iterations complete\")\n",
    "    print(f\"  Resuming from: {os.path.basename(latest)}\")\n",
    "    \n",
    "    if remaining > 0:\n",
    "        iterations_this_session = min(SESSION_ITERATIONS, remaining)\n",
    "        print(f\"  This session: {iterations_this_session} iterations (~{iterations_this_session * 1.2:.0f}-{iterations_this_session * 1.5:.0f} hours)\")\n",
    "        print(f\"  Remaining after: {remaining - iterations_this_session} iterations\\n\")\n",
    "        \n",
    "        # Resume training\n",
    "        !python train.py \\\n",
    "          --resume {latest} \\\n",
    "          --iterations {iterations_this_session} \\\n",
    "          --games-per-iter {GAMES_PER_ITER} \\\n",
    "          --simulations {SIMULATIONS} \\\n",
    "          --arena-games {ARENA_GAMES} \\\n",
    "          --batch-size {BATCH_SIZE} \\\n",
    "          --epochs {EPOCHS} \\\n",
    "          --checkpoint-dir {CHECKPOINT_DIR} \\\n",
    "          --gdrive-backup-dir {GDRIVE_BACKUP}\n",
    "        \n",
    "        new_completed = completed + iterations_this_session\n",
    "        print(f\"\\n{'='*60}\")\n",
    "        print(f\"SESSION COMPLETE\")\n",
    "        print(f\"{'='*60}\")\n",
    "        print(f\"  Progress: {new_completed}/{TOTAL_TARGET} iterations\")\n",
    "        print(f\"  Checkpoints: {GDRIVE_BACKUP}/{PROJECT_NAME}/\")\n",
    "        \n",
    "        if new_completed >= TOTAL_TARGET:\n",
    "            print(f\"\\n🎉 TRAINING COMPLETE!\")\n",
    "            print(f\"  Final model: {CHECKPOINT_DIR}/iteration_{TOTAL_TARGET}.pkl\")\n",
    "        else:\n",
    "            print(f\"\\nNext steps:\")\n",
    "            print(f\"  1. Close browser (checkpoints saved to Drive)\")\n",
    "            print(f\"  2. When ready: Re-run cells 1-6 to continue\")\n",
    "            print(f\"  3. Remaining: {TOTAL_TARGET - new_completed} iterations\")\n",
    "    else:\n",
    "        print(f\"\\n🎉 TRAINING ALREADY COMPLETE!\")\n",
    "        print(f\"  Final model: {CHECKPOINT_DIR}/iteration_{TOTAL_TARGET}.pkl\")\n",
    "        print(f\"  Download from: {GDRIVE_BACKUP}/{PROJECT_NAME}/\")\n",
    "\n",
    "else:\n",
    "    # Start fresh training\n",
    "    print(\"=\"*60)\n",
    "    print(\"STARTING NEW TRAINING\")\n",
    "    print(\"=\"*60)\n",
    "    print(f\"  Project: {PROJECT_NAME}\")\n",
    "    print(f\"  This session: {SESSION_ITERATIONS} iterations (~{SESSION_ITERATIONS * 1.2:.0f}-{SESSION_ITERATIONS * 1.5:.0f} hours)\")\n",
    "    print(f\"  Total target: {TOTAL_TARGET} iterations\\n\")\n",
    "    \n",
    "    # Start training\n",
    "    !python train.py \\\n",
    "      --iterations {SESSION_ITERATIONS} \\\n",
    "      --games-per-iter {GAMES_PER_ITER} \\\n",
    "      --simulations {SIMULATIONS} \\\n",
    "      --arena-games {ARENA_GAMES} \\\n",
    "      --batch-size {BATCH_SIZE} \\\n",
    "      --epochs {EPOCHS} \\\n",
    "      --lr {LEARNING_RATE} \\\n",
    "      --checkpoint-dir {CHECKPOINT_DIR} \\\n",
    "      --gdrive-backup-dir {GDRIVE_BACKUP}\n",
    "    \n",
    "    print(f\"\\n{'='*60}\")\n",
    "    print(f\"SESSION COMPLETE\")\n",
    "    print(f\"{'='*60}\")\n",
    "    print(f\"  Progress: {SESSION_ITERATIONS}/{TOTAL_TARGET} iterations\")\n",
    "    print(f\"  Checkpoints: {GDRIVE_BACKUP}/{PROJECT_NAME}/\")\n",
    "    \n",
    "    if SESSION_ITERATIONS >= TOTAL_TARGET:\n",
    "        print(f\"\\n🎉 TRAINING COMPLETE!\")\n",
    "        print(f\"  Final model: {CHECKPOINT_DIR}/iteration_{TOTAL_TARGET}.pkl\")\n",
    "    else:\n",
    "        print(f\"\\nNext steps:\")\n",
    "        print(f\"  1. Close browser (checkpoints saved to Drive)\")\n",
    "        print(f\"  2. When ready: Re-run cells 1-6 to continue\")\n",
    "        print(f\"  3. Remaining: {TOTAL_TARGET - SESSION_ITERATIONS} iterations\")"
   ]
  },
  {
   "cell_type": "markdown",
   "id": "cell-13",
   "metadata": {},
   "source": [
    "## Troubleshooting\n",
    "\n",
    "**Out of memory:** Reduce `BATCH_SIZE = 128` or `GAMES_PER_ITER = 25`\n",
    "\n",
    "**Too slow:** Reduce `SIMULATIONS = 15` or `ARENA_GAMES = 10`\n",
    "\n",
    "**Start over:** Change `PROJECT_NAME` in cell 5 to create a new training run\n",
    "\n",
    "**Download checkpoints:** Already in Google Drive at `/MyDrive/chess_checkpoints/{PROJECT_NAME}/`"
   ]
  }
 ],
 "metadata": {
  "kernelspec": {
   "display_name": "Python 3",
   "language": "python",
   "name": "python3"
  },
  "language_info": {
   "name": "python",
   "version": "3.10.0"
  }
 },
 "nbformat": 4,
 "nbformat_minor": 5
}
