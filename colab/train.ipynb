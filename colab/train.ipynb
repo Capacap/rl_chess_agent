{
 "cells": [
  {
   "cell_type": "markdown",
   "metadata": {},
   "source": [
    "# Chess RL Agent - Training on Colab\n",
    "\n",
    "**Purpose:** Train chess agent using MCTS + neural network on GPU\n",
    "\n",
    "**Runtime:** ~12-30 hours depending on configuration\n",
    "\n",
    "**Requirements:** Colab Pro for background execution and longer runtimes"
   ]
  },
  {
   "cell_type": "markdown",
   "metadata": {},
   "source": [
    "## Step 1: Environment Setup"
   ]
  },
  {
   "cell_type": "code",
   "execution_count": null,
   "metadata": {},
   "outputs": [],
   "source": [
    "# Verify GPU availability\n",
    "!nvidia-smi\n",
    "\n",
    "import torch\n",
    "print(f\"\\nPyTorch version: {torch.__version__}\")\n",
    "print(f\"CUDA available: {torch.cuda.is_available()}\")\n",
    "if torch.cuda.is_available():\n",
    "    print(f\"CUDA device: {torch.cuda.get_device_name(0)}\")\n",
    "    print(f\"CUDA version: {torch.version.cuda}\")"
   ]
  },
  {
   "cell_type": "markdown",
   "metadata": {},
   "source": [
    "## Step 2: Mount Google Drive (for checkpoint persistence)"
   ]
  },
  {
   "cell_type": "code",
   "execution_count": null,
   "metadata": {},
   "outputs": [],
   "source": [
    "from google.colab import drive\n",
    "drive.mount('/content/drive')\n",
    "\n",
    "# Create checkpoint directory in Drive\n",
    "!mkdir -p /content/drive/MyDrive/chess_checkpoints\n",
    "print(\"✓ Google Drive mounted\")"
   ]
  },
  {
   "cell_type": "markdown",
   "metadata": {},
   "source": "# Remove existing repo if present\n!rm -rf rl_chess_agent\n\n# Try cloning (works if repo is public)\n!git clone https://github.com/Capacap/rl_chess_agent.git\n\n# If clone failed, try with authentication\nimport os\nif not os.path.exists('rl_chess_agent'):\n    print(\"\\n⚠ Clone failed - repository appears to be private\")\n    print(\"\\nQuick fix: Make repository public\")\n    print(\"  1. Visit: https://github.com/Capacap/rl_chess_agent/settings\")\n    print(\"  2. Scroll to 'Danger Zone' → 'Change visibility'\")\n    print(\"  3. Click 'Make public' and confirm\")\n    print(\"  4. Re-run this cell\")\n    \n    # Alternative: Use token\n    print(\"\\nOR use GitHub Personal Access Token:\")\n    import getpass\n    use_token = input(\"Do you have a token ready? (y/n): \").lower()\n    if use_token == 'y':\n        token = getpass.getpass(\"Enter token: \")\n        !git clone https://{token}@github.com/Capacap/rl_chess_agent.git\n    else:\n        raise Exception(\"Cannot proceed - repository access required\")\n\n%cd rl_chess_agent\n\n# Verify we're on the right branch\n!git status\n!git log --oneline -3"
  },
  {
   "cell_type": "code",
   "execution_count": null,
   "metadata": {},
   "outputs": [],
   "source": [
    "# Clone from GitHub\n",
    "!git clone https://github.com/Capacap/rl_chess_agent.git\n",
    "%cd rl_chess_agent\n",
    "\n",
    "# Verify we're on the right branch\n",
    "!git status\n",
    "!git log --oneline -3"
   ]
  },
  {
   "cell_type": "markdown",
   "metadata": {},
   "source": [
    "## Step 4: Install Dependencies"
   ]
  },
  {
   "cell_type": "code",
   "execution_count": null,
   "metadata": {},
   "outputs": [],
   "source": [
    "!pip install -r requirements.txt\n",
    "\n",
    "# Verify key imports\n",
    "import chess\n",
    "import torch\n",
    "import numpy as np\n",
    "from model.network import ChessNet\n",
    "\n",
    "print(\"✓ All dependencies installed\")"
   ]
  },
  {
   "cell_type": "markdown",
   "metadata": {},
   "source": [
    "## Step 5: Configure Training Run\n",
    "\n",
    "**Recommended configurations:**\n",
    "\n",
    "### Quick Test (2-3 hours)\n",
    "```python\n",
    "ITERATIONS = 5\n",
    "GAMES_PER_ITER = 50\n",
    "SIMULATIONS = 20\n",
    "ARENA_GAMES = 20\n",
    "```\n",
    "\n",
    "### Development Run (12-15 hours)\n",
    "```python\n",
    "ITERATIONS = 10\n",
    "GAMES_PER_ITER = 50\n",
    "SIMULATIONS = 20\n",
    "ARENA_GAMES = 20\n",
    "```\n",
    "\n",
    "### Production Run (24-30 hours)\n",
    "```python\n",
    "ITERATIONS = 15\n",
    "GAMES_PER_ITER = 100\n",
    "SIMULATIONS = 40\n",
    "ARENA_GAMES = 30\n",
    "```"
   ]
  },
  {
   "cell_type": "code",
   "execution_count": null,
   "metadata": {},
   "outputs": [],
   "source": [
    "# Configuration (modify as needed)\n",
    "ITERATIONS = 10\n",
    "GAMES_PER_ITER = 50\n",
    "SIMULATIONS = 20\n",
    "ARENA_GAMES = 20\n",
    "BATCH_SIZE = 256\n",
    "EPOCHS = 5\n",
    "LEARNING_RATE = 1e-3\n",
    "\n",
    "# Checkpoint directory (local, will sync to Drive)\n",
    "import datetime\n",
    "timestamp = datetime.datetime.now().strftime(\"%Y%m%d_%H%M%S\")\n",
    "CHECKPOINT_DIR = f\"checkpoints/{timestamp}\"\n",
    "\n",
    "print(\"Training Configuration:\")\n",
    "print(f\"  Iterations: {ITERATIONS}\")\n",
    "print(f\"  Games per iteration: {GAMES_PER_ITER}\")\n",
    "print(f\"  MCTS simulations: {SIMULATIONS}\")\n",
    "print(f\"  Arena games: {ARENA_GAMES}\")\n",
    "print(f\"  Checkpoint dir: {CHECKPOINT_DIR}\")"
   ]
  },
  {
   "cell_type": "markdown",
   "metadata": {},
   "source": [
    "## Step 6: Launch Training\n",
    "\n",
    "**IMPORTANT:** Enable background execution in Colab Pro to prevent disconnects\n",
    "\n",
    "Training will:\n",
    "1. Generate self-play games using MCTS + neural network\n",
    "2. Train challenger network on game data\n",
    "3. Evaluate challenger vs champion in arena\n",
    "4. Promote challenger if win rate > 55%\n",
    "5. Repeat for N iterations\n",
    "\n",
    "Checkpoints saved after every iteration to `checkpoints/`"
   ]
  },
  {
   "cell_type": "code",
   "execution_count": null,
   "metadata": {},
   "outputs": [],
   "source": [
    "# Launch training\n",
    "!python train.py \\\n",
    "  --iterations {ITERATIONS} \\\n",
    "  --games-per-iter {GAMES_PER_ITER} \\\n",
    "  --simulations {SIMULATIONS} \\\n",
    "  --arena-games {ARENA_GAMES} \\\n",
    "  --batch-size {BATCH_SIZE} \\\n",
    "  --epochs {EPOCHS} \\\n",
    "  --lr {LEARNING_RATE} \\\n",
    "  --checkpoint-dir {CHECKPOINT_DIR}"
   ]
  },
  {
   "cell_type": "markdown",
   "metadata": {},
   "source": [
    "## Step 7: Backup Checkpoints to Google Drive\n",
    "\n",
    "**Run this cell after training completes (or during training to backup progress)**"
   ]
  },
  {
   "cell_type": "code",
   "execution_count": null,
   "metadata": {},
   "outputs": [],
   "source": [
    "# Sync checkpoints to Google Drive\n",
    "!cp -r {CHECKPOINT_DIR} /content/drive/MyDrive/chess_checkpoints/\n",
    "\n",
    "print(f\"✓ Checkpoints backed up to: /content/drive/MyDrive/chess_checkpoints/{timestamp}\")\n",
    "print(\"\\nDownload from Google Drive to local machine:\")\n",
    "print(\"  1. Open Google Drive in browser\")\n",
    "print(\"  2. Navigate to 'chess_checkpoints' folder\")\n",
    "print(f\"  3. Download {timestamp} folder\")\n",
    "print(\"  4. Extract to local project: checkpoints/{timestamp}\")"
   ]
  },
  {
   "cell_type": "markdown",
   "metadata": {},
   "source": [
    "## Step 8: View Training Log"
   ]
  },
  {
   "cell_type": "code",
   "execution_count": null,
   "metadata": {},
   "outputs": [],
   "source": [
    "# View last 50 lines of training log\n",
    "!tail -50 {CHECKPOINT_DIR}/training.log"
   ]
  },
  {
   "cell_type": "markdown",
   "metadata": {},
   "source": [
    "## Step 9: Monitor Training Progress (Optional)\n",
    "\n",
    "Run this cell periodically to check progress without viewing full logs"
   ]
  },
  {
   "cell_type": "code",
   "execution_count": null,
   "metadata": {},
   "outputs": [],
   "source": [
    "import os\n",
    "import glob\n",
    "\n",
    "# Count checkpoints\n",
    "checkpoints = glob.glob(f\"{CHECKPOINT_DIR}/iteration_*.pt\")\n",
    "print(f\"Checkpoints saved: {len(checkpoints)}\")\n",
    "print(f\"Progress: {len(checkpoints)}/{ITERATIONS} iterations\")\n",
    "\n",
    "# Show latest checkpoint\n",
    "if checkpoints:\n",
    "    latest = sorted(checkpoints)[-1]\n",
    "    size_mb = os.path.getsize(latest) / (1024 * 1024)\n",
    "    print(f\"\\nLatest checkpoint: {latest}\")\n",
    "    print(f\"Size: {size_mb:.1f} MB\")\n",
    "\n",
    "# GPU utilization\n",
    "!nvidia-smi --query-gpu=utilization.gpu,memory.used --format=csv"
   ]
  },
  {
   "cell_type": "markdown",
   "metadata": {},
   "source": [
    "## Troubleshooting\n",
    "\n",
    "**Session disconnected:**\n",
    "- With Colab Pro background execution, training continues\n",
    "- Reconnect and check progress with Step 9\n",
    "- Checkpoints auto-saved every iteration\n",
    "\n",
    "**Out of memory:**\n",
    "- Reduce `BATCH_SIZE` (try 128)\n",
    "- Reduce `GAMES_PER_ITER` (try 25)\n",
    "\n",
    "**Training too slow:**\n",
    "- Reduce `SIMULATIONS` (try 10-15)\n",
    "- Reduce `ARENA_GAMES` (try 10-15)\n",
    "\n",
    "**Resume from checkpoint:**\n",
    "```bash\n",
    "!python train.py --resume {CHECKPOINT_DIR}/iteration_5.pt --iterations 10\n",
    "```"
   ]
  }
 ],
 "metadata": {
  "accelerator": "GPU",
  "colab": {
   "gpuType": "T4",
   "provenance": []
  },
  "kernelspec": {
   "display_name": "Python 3",
   "name": "python3"
  },
  "language_info": {
   "name": "python"
  }
 },
 "nbformat": 4,
 "nbformat_minor": 0
}